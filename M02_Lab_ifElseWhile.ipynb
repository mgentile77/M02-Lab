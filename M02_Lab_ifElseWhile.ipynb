{
 "cells": [
  {
   "cell_type": "markdown",
   "metadata": {},
   "source": [
    "Michael Gentile\n",
    "M02_Lab_ifElseWhile\n",
    "10/29/23\n",
    "F.Liu"
   ]
  },
  {
   "cell_type": "markdown",
   "metadata": {},
   "source": [
    "This app will accept student names and GPAs and test if the student qualifies for either the Dean's List or the Honor Roll."
   ]
  },
  {
   "cell_type": "code",
   "execution_count": 3,
   "metadata": {},
   "outputs": [
    {
     "name": "stdout",
     "output_type": "stream",
     "text": [
      "3.52\n",
      "False\n",
      "False\n",
      "MIKE BEN has made the Dean's List!\n"
     ]
    },
    {
     "ename": "KeyboardInterrupt",
     "evalue": "",
     "output_type": "error",
     "traceback": [
      "\u001b[1;31m---------------------------------------------------------------------------\u001b[0m",
      "\u001b[1;31mKeyboardInterrupt\u001b[0m                         Traceback (most recent call last)",
      "\u001b[1;32mc:\\Users\\Mike\\OneDrive\\Documents\\Ivy Tech\\SDEV220\\Module 2\\M02 Lab\\M02_Lab_ifElseWhile.ipynb Cell 3\u001b[0m line \u001b[0;36m2\n\u001b[0;32m     <a href='vscode-notebook-cell:/c%3A/Users/Mike/OneDrive/Documents/Ivy%20Tech/SDEV220/Module%202/M02%20Lab/M02_Lab_ifElseWhile.ipynb#W2sZmlsZQ%3D%3D?line=17'>18</a>\u001b[0m     \u001b[39mreturn\u001b[39;00m \u001b[39mTrue\u001b[39;00m\n\u001b[0;32m     <a href='vscode-notebook-cell:/c%3A/Users/Mike/OneDrive/Documents/Ivy%20Tech/SDEV220/Module%202/M02%20Lab/M02_Lab_ifElseWhile.ipynb#W2sZmlsZQ%3D%3D?line=19'>20</a>\u001b[0m userEntry \u001b[39m=\u001b[39m \u001b[39minput\u001b[39m(\u001b[39m\"\u001b[39m\u001b[39mPlease enter student\u001b[39m\u001b[39m'\u001b[39m\u001b[39ms last name or ZZZ to quit\u001b[39m\u001b[39m\"\u001b[39m)\u001b[39m.\u001b[39mupper()\n\u001b[1;32m---> <a href='vscode-notebook-cell:/c%3A/Users/Mike/OneDrive/Documents/Ivy%20Tech/SDEV220/Module%202/M02%20Lab/M02_Lab_ifElseWhile.ipynb#W2sZmlsZQ%3D%3D?line=20'>21</a>\u001b[0m \u001b[39mwhile\u001b[39;00m userEntry \u001b[39m!=\u001b[39m end:\n\u001b[0;32m     <a href='vscode-notebook-cell:/c%3A/Users/Mike/OneDrive/Documents/Ivy%20Tech/SDEV220/Module%202/M02%20Lab/M02_Lab_ifElseWhile.ipynb#W2sZmlsZQ%3D%3D?line=21'>22</a>\u001b[0m     l_name \u001b[39m=\u001b[39m userEntry\n\u001b[0;32m     <a href='vscode-notebook-cell:/c%3A/Users/Mike/OneDrive/Documents/Ivy%20Tech/SDEV220/Module%202/M02%20Lab/M02_Lab_ifElseWhile.ipynb#W2sZmlsZQ%3D%3D?line=22'>23</a>\u001b[0m     f_name \u001b[39m=\u001b[39m \u001b[39minput\u001b[39m(\u001b[39m\"\u001b[39m\u001b[39mPlease enter student\u001b[39m\u001b[39m'\u001b[39m\u001b[39ms firt name.\u001b[39m\u001b[39m\"\u001b[39m)\u001b[39m.\u001b[39mupper()\n",
      "\u001b[1;32mc:\\Users\\Mike\\OneDrive\\Documents\\Ivy Tech\\SDEV220\\Module 2\\M02 Lab\\M02_Lab_ifElseWhile.ipynb Cell 3\u001b[0m line \u001b[0;36m2\n\u001b[0;32m     <a href='vscode-notebook-cell:/c%3A/Users/Mike/OneDrive/Documents/Ivy%20Tech/SDEV220/Module%202/M02%20Lab/M02_Lab_ifElseWhile.ipynb#W2sZmlsZQ%3D%3D?line=17'>18</a>\u001b[0m     \u001b[39mreturn\u001b[39;00m \u001b[39mTrue\u001b[39;00m\n\u001b[0;32m     <a href='vscode-notebook-cell:/c%3A/Users/Mike/OneDrive/Documents/Ivy%20Tech/SDEV220/Module%202/M02%20Lab/M02_Lab_ifElseWhile.ipynb#W2sZmlsZQ%3D%3D?line=19'>20</a>\u001b[0m userEntry \u001b[39m=\u001b[39m \u001b[39minput\u001b[39m(\u001b[39m\"\u001b[39m\u001b[39mPlease enter student\u001b[39m\u001b[39m'\u001b[39m\u001b[39ms last name or ZZZ to quit\u001b[39m\u001b[39m\"\u001b[39m)\u001b[39m.\u001b[39mupper()\n\u001b[1;32m---> <a href='vscode-notebook-cell:/c%3A/Users/Mike/OneDrive/Documents/Ivy%20Tech/SDEV220/Module%202/M02%20Lab/M02_Lab_ifElseWhile.ipynb#W2sZmlsZQ%3D%3D?line=20'>21</a>\u001b[0m \u001b[39mwhile\u001b[39;00m userEntry \u001b[39m!=\u001b[39m end:\n\u001b[0;32m     <a href='vscode-notebook-cell:/c%3A/Users/Mike/OneDrive/Documents/Ivy%20Tech/SDEV220/Module%202/M02%20Lab/M02_Lab_ifElseWhile.ipynb#W2sZmlsZQ%3D%3D?line=21'>22</a>\u001b[0m     l_name \u001b[39m=\u001b[39m userEntry\n\u001b[0;32m     <a href='vscode-notebook-cell:/c%3A/Users/Mike/OneDrive/Documents/Ivy%20Tech/SDEV220/Module%202/M02%20Lab/M02_Lab_ifElseWhile.ipynb#W2sZmlsZQ%3D%3D?line=22'>23</a>\u001b[0m     f_name \u001b[39m=\u001b[39m \u001b[39minput\u001b[39m(\u001b[39m\"\u001b[39m\u001b[39mPlease enter student\u001b[39m\u001b[39m'\u001b[39m\u001b[39ms firt name.\u001b[39m\u001b[39m\"\u001b[39m)\u001b[39m.\u001b[39mupper()\n",
      "File \u001b[1;32m_pydevd_bundle/pydevd_cython.pyx:1457\u001b[0m, in \u001b[0;36m_pydevd_bundle.pydevd_cython.SafeCallWrapper.__call__\u001b[1;34m()\u001b[0m\n",
      "File \u001b[1;32m_pydevd_bundle/pydevd_cython.pyx:701\u001b[0m, in \u001b[0;36m_pydevd_bundle.pydevd_cython.PyDBFrame.trace_dispatch\u001b[1;34m()\u001b[0m\n",
      "File \u001b[1;32m_pydevd_bundle/pydevd_cython.pyx:1395\u001b[0m, in \u001b[0;36m_pydevd_bundle.pydevd_cython.PyDBFrame.trace_dispatch\u001b[1;34m()\u001b[0m\n",
      "File \u001b[1;32m_pydevd_bundle/pydevd_cython.pyx:1344\u001b[0m, in \u001b[0;36m_pydevd_bundle.pydevd_cython.PyDBFrame.trace_dispatch\u001b[1;34m()\u001b[0m\n",
      "File \u001b[1;32m_pydevd_bundle/pydevd_cython.pyx:312\u001b[0m, in \u001b[0;36m_pydevd_bundle.pydevd_cython.PyDBFrame.do_wait_suspend\u001b[1;34m()\u001b[0m\n",
      "File \u001b[1;32mc:\\Users\\Mike\\OneDrive\\Documents\\Ivy Tech\\SDEV220\\Module 2\\M02 Lab\\.conda\\lib\\site-packages\\debugpy\\_vendored\\pydevd\\pydevd.py:2070\u001b[0m, in \u001b[0;36mPyDB.do_wait_suspend\u001b[1;34m(self, thread, frame, event, arg, exception_type)\u001b[0m\n\u001b[0;32m   2067\u001b[0m             from_this_thread\u001b[39m.\u001b[39mappend(frame_custom_thread_id)\n\u001b[0;32m   2069\u001b[0m     \u001b[39mwith\u001b[39;00m \u001b[39mself\u001b[39m\u001b[39m.\u001b[39m_threads_suspended_single_notification\u001b[39m.\u001b[39mnotify_thread_suspended(thread_id, thread, stop_reason):\n\u001b[1;32m-> 2070\u001b[0m         keep_suspended \u001b[39m=\u001b[39m \u001b[39mself\u001b[39;49m\u001b[39m.\u001b[39;49m_do_wait_suspend(thread, frame, event, arg, suspend_type, from_this_thread, frames_tracker)\n\u001b[0;32m   2072\u001b[0m frames_list \u001b[39m=\u001b[39m \u001b[39mNone\u001b[39;00m\n\u001b[0;32m   2074\u001b[0m \u001b[39mif\u001b[39;00m keep_suspended:\n\u001b[0;32m   2075\u001b[0m     \u001b[39m# This means that we should pause again after a set next statement.\u001b[39;00m\n",
      "File \u001b[1;32mc:\\Users\\Mike\\OneDrive\\Documents\\Ivy Tech\\SDEV220\\Module 2\\M02 Lab\\.conda\\lib\\site-packages\\debugpy\\_vendored\\pydevd\\pydevd.py:2106\u001b[0m, in \u001b[0;36mPyDB._do_wait_suspend\u001b[1;34m(self, thread, frame, event, arg, suspend_type, from_this_thread, frames_tracker)\u001b[0m\n\u001b[0;32m   2103\u001b[0m         \u001b[39mself\u001b[39m\u001b[39m.\u001b[39m_call_input_hook()\n\u001b[0;32m   2105\u001b[0m     \u001b[39mself\u001b[39m\u001b[39m.\u001b[39mprocess_internal_commands()\n\u001b[1;32m-> 2106\u001b[0m     time\u001b[39m.\u001b[39;49msleep(\u001b[39m0.01\u001b[39;49m)\n\u001b[0;32m   2108\u001b[0m \u001b[39mself\u001b[39m\u001b[39m.\u001b[39mcancel_async_evaluation(get_current_thread_id(thread), \u001b[39mstr\u001b[39m(\u001b[39mid\u001b[39m(frame)))\n\u001b[0;32m   2110\u001b[0m \u001b[39m# process any stepping instructions\u001b[39;00m\n",
      "\u001b[1;31mKeyboardInterrupt\u001b[0m: "
     ]
    }
   ],
   "source": [
    "f_name = \"\"\n",
    "l_name = \"\"\n",
    "gpa = 0\n",
    "end = \"ZZZ\"\n",
    "\n",
    "def isGpaCorrect(gpa):\n",
    "    try:\n",
    "        float(gpa)\n",
    "        if 4<float(gpa)<0:\n",
    "            raise Exception(\"Incorect entry\")\n",
    "    except (ValueError, Exception):\n",
    "        print(\"Sorry I didn't understand your response.\")\n",
    "        return False\n",
    "    return True\n",
    "\n",
    "userEntry = input(\"Please enter student's last name or ZZZ to quit\").upper()\n",
    "while userEntry != end:\n",
    "    l_name = userEntry\n",
    "    f_name = input(\"Please enter student's firt name.\").upper()\n",
    "    gpa = input(\"Please enter students GPA\")\n",
    "    while isGpaCorrect(gpa) == False:\n",
    "        print(\"Sorry I didn't understand your response.\")\n",
    "        gpa = input(\"Please enter students GPA\")\n",
    "    if float(gpa) >= 3.5:\n",
    "        print(f\"{f_name} {l_name} has made the Dean's List!\")\n",
    "        userEntry = input(\"Please enter student's last name or ZZZ to quit\").upper()\n",
    "    elif float(gpa) >= 3.25:\n",
    "        print(f\"{f_name} {l_name} has made the Honor Roll\")\n",
    "        userEntry = input(\"Please enter student's last name or ZZZ to quit\").upper()\n",
    "    else:\n",
    "        print(f\"{f_name} {l_name} has not made any lists\")\n",
    "        userEntry = input(\"Please enter student's last name or ZZZ to quit\").upper()"
   ]
  }
 ],
 "metadata": {
  "kernelspec": {
   "display_name": "Python 3",
   "language": "python",
   "name": "python3"
  },
  "language_info": {
   "codemirror_mode": {
    "name": "ipython",
    "version": 3
   },
   "file_extension": ".py",
   "mimetype": "text/x-python",
   "name": "python",
   "nbconvert_exporter": "python",
   "pygments_lexer": "ipython3",
   "version": "3.10.13"
  }
 },
 "nbformat": 4,
 "nbformat_minor": 2
}
