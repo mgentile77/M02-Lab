{
 "cells": [
  {
   "cell_type": "markdown",
   "metadata": {},
   "source": [
    "Michael Gentile\n",
    "M02_Lab_ifElseWhile\n",
    "10/29/23\n",
    "F.Liu"
   ]
  },
  {
   "cell_type": "markdown",
   "metadata": {},
   "source": [
    "This app will accept student names and GPAs and test if the student qualifies for either the Dean's List or the Honor Roll."
   ]
  },
  {
   "cell_type": "code",
   "execution_count": 1,
   "metadata": {},
   "outputs": [
    {
     "name": "stdout",
     "output_type": "stream",
     "text": [
      "Sorry I didn't understand your response.\n",
      "Sorry I didn't understand your response.\n",
      "Sorry I didn't understand your response.\n",
      "MIKE LONG has made the Honor Roll\n"
     ]
    }
   ],
   "source": [
    "f_name = \"\"\n",
    "l_name = \"\"\n",
    "gpa = 0\n",
    "end = \"ZZZ\"\n",
    "\n",
    "def isGpaCorrect(gpa):\n",
    "    try:\n",
    "        float(gpa)\n",
    "        if (4<float(gpa)) == True:\n",
    "            raise Exception(\"Incorect entry\")\n",
    "        if (float(gpa) < 0.01) == True:\n",
    "            raise Exception(\"Incorect entry\")\n",
    "    except (ValueError, Exception):\n",
    "        return False\n",
    "    return True\n",
    "\n",
    "userEntry = input(\"Please enter student's last name or ZZZ to quit\\n\").upper()\n",
    "while userEntry != end:\n",
    "    l_name = userEntry\n",
    "    f_name = input(\"Please enter student's firt name.\\n\").upper()\n",
    "    gpa = input(\"Please enter students GPA\\n\")\n",
    "    while isGpaCorrect(gpa) == False:\n",
    "        print(\"Sorry I didn't understand your response.\")\n",
    "        gpa = input(\"Please enter students GPA\\n\")\n",
    "    if float(gpa) >= 3.5:\n",
    "        print(f\"{f_name} {l_name} has made the Dean's List!\")\n",
    "        userEntry = input(\"Please enter student's last name or ZZZ to quit\\n\").upper()\n",
    "    elif float(gpa) >= 3.25:\n",
    "        print(f\"{f_name} {l_name} has made the Honor Roll\")\n",
    "        userEntry = input(\"Please enter student's last name or ZZZ to quit\\n\").upper()\n",
    "    else:\n",
    "        print(f\"{f_name} {l_name} has not made any lists\")\n",
    "        userEntry = input(\"Please enter student's last name or ZZZ to quit\\n\").upper()"
   ]
  }
 ],
 "metadata": {
  "kernelspec": {
   "display_name": "Python 3",
   "language": "python",
   "name": "python3"
  },
  "language_info": {
   "codemirror_mode": {
    "name": "ipython",
    "version": 3
   },
   "file_extension": ".py",
   "mimetype": "text/x-python",
   "name": "python",
   "nbconvert_exporter": "python",
   "pygments_lexer": "ipython3",
   "version": "3.10.13"
  }
 },
 "nbformat": 4,
 "nbformat_minor": 2
}
