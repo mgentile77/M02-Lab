{
 "cells": [
  {
   "cell_type": "markdown",
   "metadata": {},
   "source": [
    "Michael Gentile\n",
    "M02_Lab_ifElseWhile\n",
    "10/29/23\n",
    "F.Liu"
   ]
  },
  {
   "cell_type": "markdown",
   "metadata": {},
   "source": [
    "This app will accept student names and GPAs and test if the student qualifies for either the Dean's List or the Honor Roll."
   ]
  },
  {
   "cell_type": "code",
   "execution_count": 2,
   "metadata": {},
   "outputs": [
    {
     "ename": "KeyboardInterrupt",
     "evalue": "Interrupted by user",
     "output_type": "error",
     "traceback": [
      "\u001b[1;31m---------------------------------------------------------------------------\u001b[0m",
      "\u001b[1;31mKeyboardInterrupt\u001b[0m                         Traceback (most recent call last)",
      "\u001b[1;32mc:\\Users\\Mike\\OneDrive\\Documents\\Ivy Tech\\SDEV220\\Module 2\\M02 Lab\\M02_Lab_ifElseWhile.ipynb Cell 3\u001b[0m line \u001b[0;36m4\n\u001b[0;32m      <a href='vscode-notebook-cell:/c%3A/Users/Mike/OneDrive/Documents/Ivy%20Tech/SDEV220/Module%202/M02%20Lab/M02_Lab_ifElseWhile.ipynb#W2sZmlsZQ%3D%3D?line=1'>2</a>\u001b[0m gpa \u001b[39m=\u001b[39m \u001b[39m0\u001b[39m\n\u001b[0;32m      <a href='vscode-notebook-cell:/c%3A/Users/Mike/OneDrive/Documents/Ivy%20Tech/SDEV220/Module%202/M02%20Lab/M02_Lab_ifElseWhile.ipynb#W2sZmlsZQ%3D%3D?line=2'>3</a>\u001b[0m end \u001b[39m=\u001b[39m \u001b[39m\"\u001b[39m\u001b[39mZZZ\u001b[39m\u001b[39m\"\u001b[39m\n\u001b[1;32m----> <a href='vscode-notebook-cell:/c%3A/Users/Mike/OneDrive/Documents/Ivy%20Tech/SDEV220/Module%202/M02%20Lab/M02_Lab_ifElseWhile.ipynb#W2sZmlsZQ%3D%3D?line=3'>4</a>\u001b[0m catchInput \u001b[39m=\u001b[39m \u001b[39minput\u001b[39;49m(\u001b[39m\"\u001b[39;49m\u001b[39mPlease enter student\u001b[39;49m\u001b[39m'\u001b[39;49m\u001b[39ms last name or ZZZ to quit\u001b[39;49m\u001b[39m\\n\u001b[39;49;00m\u001b[39m\"\u001b[39;49m)\u001b[39m.\u001b[39mupper()\n\u001b[0;32m      <a href='vscode-notebook-cell:/c%3A/Users/Mike/OneDrive/Documents/Ivy%20Tech/SDEV220/Module%202/M02%20Lab/M02_Lab_ifElseWhile.ipynb#W2sZmlsZQ%3D%3D?line=4'>5</a>\u001b[0m \u001b[39mdef\u001b[39;00m \u001b[39misGpaCorrect\u001b[39m(gpa):\n\u001b[0;32m      <a href='vscode-notebook-cell:/c%3A/Users/Mike/OneDrive/Documents/Ivy%20Tech/SDEV220/Module%202/M02%20Lab/M02_Lab_ifElseWhile.ipynb#W2sZmlsZQ%3D%3D?line=5'>6</a>\u001b[0m     \u001b[39mtry\u001b[39;00m:\n",
      "File \u001b[1;32mc:\\Users\\Mike\\OneDrive\\Documents\\Ivy Tech\\SDEV220\\Module 2\\M02 Lab\\.conda\\lib\\site-packages\\ipykernel\\kernelbase.py:1251\u001b[0m, in \u001b[0;36mKernel.raw_input\u001b[1;34m(self, prompt)\u001b[0m\n\u001b[0;32m   1249\u001b[0m     msg \u001b[39m=\u001b[39m \u001b[39m\"\u001b[39m\u001b[39mraw_input was called, but this frontend does not support input requests.\u001b[39m\u001b[39m\"\u001b[39m\n\u001b[0;32m   1250\u001b[0m     \u001b[39mraise\u001b[39;00m StdinNotImplementedError(msg)\n\u001b[1;32m-> 1251\u001b[0m \u001b[39mreturn\u001b[39;00m \u001b[39mself\u001b[39;49m\u001b[39m.\u001b[39;49m_input_request(\n\u001b[0;32m   1252\u001b[0m     \u001b[39mstr\u001b[39;49m(prompt),\n\u001b[0;32m   1253\u001b[0m     \u001b[39mself\u001b[39;49m\u001b[39m.\u001b[39;49m_parent_ident[\u001b[39m\"\u001b[39;49m\u001b[39mshell\u001b[39;49m\u001b[39m\"\u001b[39;49m],\n\u001b[0;32m   1254\u001b[0m     \u001b[39mself\u001b[39;49m\u001b[39m.\u001b[39;49mget_parent(\u001b[39m\"\u001b[39;49m\u001b[39mshell\u001b[39;49m\u001b[39m\"\u001b[39;49m),\n\u001b[0;32m   1255\u001b[0m     password\u001b[39m=\u001b[39;49m\u001b[39mFalse\u001b[39;49;00m,\n\u001b[0;32m   1256\u001b[0m )\n",
      "File \u001b[1;32mc:\\Users\\Mike\\OneDrive\\Documents\\Ivy Tech\\SDEV220\\Module 2\\M02 Lab\\.conda\\lib\\site-packages\\ipykernel\\kernelbase.py:1295\u001b[0m, in \u001b[0;36mKernel._input_request\u001b[1;34m(self, prompt, ident, parent, password)\u001b[0m\n\u001b[0;32m   1292\u001b[0m \u001b[39mexcept\u001b[39;00m \u001b[39mKeyboardInterrupt\u001b[39;00m:\n\u001b[0;32m   1293\u001b[0m     \u001b[39m# re-raise KeyboardInterrupt, to truncate traceback\u001b[39;00m\n\u001b[0;32m   1294\u001b[0m     msg \u001b[39m=\u001b[39m \u001b[39m\"\u001b[39m\u001b[39mInterrupted by user\u001b[39m\u001b[39m\"\u001b[39m\n\u001b[1;32m-> 1295\u001b[0m     \u001b[39mraise\u001b[39;00m \u001b[39mKeyboardInterrupt\u001b[39;00m(msg) \u001b[39mfrom\u001b[39;00m \u001b[39mNone\u001b[39;00m\n\u001b[0;32m   1296\u001b[0m \u001b[39mexcept\u001b[39;00m \u001b[39mException\u001b[39;00m:\n\u001b[0;32m   1297\u001b[0m     \u001b[39mself\u001b[39m\u001b[39m.\u001b[39mlog\u001b[39m.\u001b[39mwarning(\u001b[39m\"\u001b[39m\u001b[39mInvalid Message:\u001b[39m\u001b[39m\"\u001b[39m, exc_info\u001b[39m=\u001b[39m\u001b[39mTrue\u001b[39;00m)\n",
      "\u001b[1;31mKeyboardInterrupt\u001b[0m: Interrupted by user"
     ]
    }
   ],
   "source": [
    "f_name = \"\"\n",
    "gpa = 0\n",
    "end = \"ZZZ\"\n",
    "\n",
    "def isGpaCorrect(gpa):\n",
    "    try:\n",
    "        float(gpa)\n",
    "        if (4<float(gpa)) == True:\n",
    "            raise Exception(\"Incorect entry\")\n",
    "        if (float(gpa) < 0.01) == True:\n",
    "            raise Exception(\"Incorect entry\")\n",
    "    except (ValueError, Exception):\n",
    "        return False\n",
    "    return True\n",
    "\n",
    "l_name = input(\"Please enter student's last name or ZZZ to quit\\n\").upper()\n",
    "while l_name != end:\n",
    "    f_name = input(\"Please enter student's first name.\\n\").upper()\n",
    "    gpa = input(\"Please enter students GPA\\n\")\n",
    "    while isGpaCorrect(gpa) == False:\n",
    "        print(\"Sorry I didn't understand your response.\")\n",
    "        gpa = input(\"Please enter students GPA\\n\")\n",
    "    if float(gpa) >= 3.5:\n",
    "        print(f\"{f_name} {l_name} has made the Dean's List!\")\n",
    "    elif float(gpa) >= 3.25:\n",
    "        print(f\"{f_name} {l_name} has made the Honor Roll\")\n",
    "    else:\n",
    "        print(f\"{f_name} {l_name} has not made any lists\")\n",
    "    l_name = input(\"Please enter student's last name or ZZZ to quit\\n\").upper()"
   ]
  }
 ],
 "metadata": {
  "kernelspec": {
   "display_name": "Python 3",
   "language": "python",
   "name": "python3"
  },
  "language_info": {
   "codemirror_mode": {
    "name": "ipython",
    "version": 3
   },
   "file_extension": ".py",
   "mimetype": "text/x-python",
   "name": "python",
   "nbconvert_exporter": "python",
   "pygments_lexer": "ipython3",
   "version": "3.10.13"
  }
 },
 "nbformat": 4,
 "nbformat_minor": 2
}
